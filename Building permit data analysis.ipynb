{
 "cells": [
  {
   "cell_type": "code",
   "execution_count": 747,
   "id": "2cbdf6c1-b341-4ed2-8a31-2642f76efe4d",
   "metadata": {},
   "outputs": [
    {
     "name": "stderr",
     "output_type": "stream",
     "text": [
      "C:\\Users\\Dell\\AppData\\Local\\Temp\\ipykernel_11688\\674855123.py:2: DtypeWarning: Columns (22,32) have mixed types. Specify dtype option on import or set low_memory=False.\n",
      "  df = pd.read_csv(r\"D:\\Information Technology\\Sanfransisco building permits raw datasets\\Building_Permits.csv\")\n"
     ]
    },
    {
     "data": {
      "text/html": [
       "<div>\n",
       "<style scoped>\n",
       "    .dataframe tbody tr th:only-of-type {\n",
       "        vertical-align: middle;\n",
       "    }\n",
       "\n",
       "    .dataframe tbody tr th {\n",
       "        vertical-align: top;\n",
       "    }\n",
       "\n",
       "    .dataframe thead th {\n",
       "        text-align: right;\n",
       "    }\n",
       "</style>\n",
       "<table border=\"1\" class=\"dataframe\">\n",
       "  <thead>\n",
       "    <tr style=\"text-align: right;\">\n",
       "      <th></th>\n",
       "      <th>Permit Number</th>\n",
       "      <th>Permit Type</th>\n",
       "      <th>Permit Type Definition</th>\n",
       "      <th>Permit Creation Date</th>\n",
       "      <th>Block</th>\n",
       "      <th>Lot</th>\n",
       "      <th>Street Number</th>\n",
       "      <th>Street Number Suffix</th>\n",
       "      <th>Street Name</th>\n",
       "      <th>Street Suffix</th>\n",
       "      <th>...</th>\n",
       "      <th>Existing Construction Type</th>\n",
       "      <th>Existing Construction Type Description</th>\n",
       "      <th>Proposed Construction Type</th>\n",
       "      <th>Proposed Construction Type Description</th>\n",
       "      <th>Site Permit</th>\n",
       "      <th>Supervisor District</th>\n",
       "      <th>Neighborhoods - Analysis Boundaries</th>\n",
       "      <th>Zipcode</th>\n",
       "      <th>Location</th>\n",
       "      <th>Record ID</th>\n",
       "    </tr>\n",
       "  </thead>\n",
       "  <tbody>\n",
       "    <tr>\n",
       "      <th>0</th>\n",
       "      <td>201505065519</td>\n",
       "      <td>4</td>\n",
       "      <td>sign - erect</td>\n",
       "      <td>05/06/2015</td>\n",
       "      <td>0326</td>\n",
       "      <td>023</td>\n",
       "      <td>140</td>\n",
       "      <td>NaN</td>\n",
       "      <td>Ellis</td>\n",
       "      <td>St</td>\n",
       "      <td>...</td>\n",
       "      <td>3.0</td>\n",
       "      <td>constr type 3</td>\n",
       "      <td>NaN</td>\n",
       "      <td>NaN</td>\n",
       "      <td>NaN</td>\n",
       "      <td>3.0</td>\n",
       "      <td>Tenderloin</td>\n",
       "      <td>94102.0</td>\n",
       "      <td>(37.785719256680785, -122.40852313194863)</td>\n",
       "      <td>1380611233945</td>\n",
       "    </tr>\n",
       "    <tr>\n",
       "      <th>1</th>\n",
       "      <td>201604195146</td>\n",
       "      <td>4</td>\n",
       "      <td>sign - erect</td>\n",
       "      <td>04/19/2016</td>\n",
       "      <td>0306</td>\n",
       "      <td>007</td>\n",
       "      <td>440</td>\n",
       "      <td>NaN</td>\n",
       "      <td>Geary</td>\n",
       "      <td>St</td>\n",
       "      <td>...</td>\n",
       "      <td>3.0</td>\n",
       "      <td>constr type 3</td>\n",
       "      <td>NaN</td>\n",
       "      <td>NaN</td>\n",
       "      <td>NaN</td>\n",
       "      <td>3.0</td>\n",
       "      <td>Tenderloin</td>\n",
       "      <td>94102.0</td>\n",
       "      <td>(37.78733980600732, -122.41063199757738)</td>\n",
       "      <td>1420164406718</td>\n",
       "    </tr>\n",
       "    <tr>\n",
       "      <th>2</th>\n",
       "      <td>201605278609</td>\n",
       "      <td>3</td>\n",
       "      <td>additions alterations or repairs</td>\n",
       "      <td>05/27/2016</td>\n",
       "      <td>0595</td>\n",
       "      <td>203</td>\n",
       "      <td>1647</td>\n",
       "      <td>NaN</td>\n",
       "      <td>Pacific</td>\n",
       "      <td>Av</td>\n",
       "      <td>...</td>\n",
       "      <td>1.0</td>\n",
       "      <td>constr type 1</td>\n",
       "      <td>1.0</td>\n",
       "      <td>constr type 1</td>\n",
       "      <td>NaN</td>\n",
       "      <td>3.0</td>\n",
       "      <td>Russian Hill</td>\n",
       "      <td>94109.0</td>\n",
       "      <td>(37.7946573324287, -122.42232562979227)</td>\n",
       "      <td>1424856504716</td>\n",
       "    </tr>\n",
       "    <tr>\n",
       "      <th>3</th>\n",
       "      <td>201611072166</td>\n",
       "      <td>8</td>\n",
       "      <td>otc alterations permit</td>\n",
       "      <td>11/07/2016</td>\n",
       "      <td>0156</td>\n",
       "      <td>011</td>\n",
       "      <td>1230</td>\n",
       "      <td>NaN</td>\n",
       "      <td>Pacific</td>\n",
       "      <td>Av</td>\n",
       "      <td>...</td>\n",
       "      <td>5.0</td>\n",
       "      <td>wood frame (5)</td>\n",
       "      <td>5.0</td>\n",
       "      <td>wood frame (5)</td>\n",
       "      <td>NaN</td>\n",
       "      <td>3.0</td>\n",
       "      <td>Nob Hill</td>\n",
       "      <td>94109.0</td>\n",
       "      <td>(37.79595867909168, -122.41557405519474)</td>\n",
       "      <td>1443574295566</td>\n",
       "    </tr>\n",
       "    <tr>\n",
       "      <th>4</th>\n",
       "      <td>201611283529</td>\n",
       "      <td>6</td>\n",
       "      <td>demolitions</td>\n",
       "      <td>11/28/2016</td>\n",
       "      <td>0342</td>\n",
       "      <td>001</td>\n",
       "      <td>950</td>\n",
       "      <td>NaN</td>\n",
       "      <td>Market</td>\n",
       "      <td>St</td>\n",
       "      <td>...</td>\n",
       "      <td>3.0</td>\n",
       "      <td>constr type 3</td>\n",
       "      <td>NaN</td>\n",
       "      <td>NaN</td>\n",
       "      <td>NaN</td>\n",
       "      <td>6.0</td>\n",
       "      <td>Tenderloin</td>\n",
       "      <td>94102.0</td>\n",
       "      <td>(37.78315261897309, -122.40950883997789)</td>\n",
       "      <td>144548169992</td>\n",
       "    </tr>\n",
       "  </tbody>\n",
       "</table>\n",
       "<p>5 rows × 43 columns</p>\n",
       "</div>"
      ],
      "text/plain": [
       "  Permit Number  Permit Type            Permit Type Definition  \\\n",
       "0  201505065519            4                      sign - erect   \n",
       "1  201604195146            4                      sign - erect   \n",
       "2  201605278609            3  additions alterations or repairs   \n",
       "3  201611072166            8            otc alterations permit   \n",
       "4  201611283529            6                       demolitions   \n",
       "\n",
       "  Permit Creation Date Block  Lot  Street Number Street Number Suffix  \\\n",
       "0           05/06/2015  0326  023            140                  NaN   \n",
       "1           04/19/2016  0306  007            440                  NaN   \n",
       "2           05/27/2016  0595  203           1647                  NaN   \n",
       "3           11/07/2016  0156  011           1230                  NaN   \n",
       "4           11/28/2016  0342  001            950                  NaN   \n",
       "\n",
       "  Street Name Street Suffix  ...  Existing Construction Type  \\\n",
       "0       Ellis            St  ...                         3.0   \n",
       "1       Geary            St  ...                         3.0   \n",
       "2     Pacific            Av  ...                         1.0   \n",
       "3     Pacific            Av  ...                         5.0   \n",
       "4      Market            St  ...                         3.0   \n",
       "\n",
       "  Existing Construction Type Description Proposed Construction Type  \\\n",
       "0                          constr type 3                        NaN   \n",
       "1                          constr type 3                        NaN   \n",
       "2                          constr type 1                        1.0   \n",
       "3                         wood frame (5)                        5.0   \n",
       "4                          constr type 3                        NaN   \n",
       "\n",
       "  Proposed Construction Type Description Site Permit Supervisor District  \\\n",
       "0                                    NaN         NaN                 3.0   \n",
       "1                                    NaN         NaN                 3.0   \n",
       "2                          constr type 1         NaN                 3.0   \n",
       "3                         wood frame (5)         NaN                 3.0   \n",
       "4                                    NaN         NaN                 6.0   \n",
       "\n",
       "  Neighborhoods - Analysis Boundaries  Zipcode  \\\n",
       "0                          Tenderloin  94102.0   \n",
       "1                          Tenderloin  94102.0   \n",
       "2                        Russian Hill  94109.0   \n",
       "3                            Nob Hill  94109.0   \n",
       "4                          Tenderloin  94102.0   \n",
       "\n",
       "                                    Location      Record ID  \n",
       "0  (37.785719256680785, -122.40852313194863)  1380611233945  \n",
       "1   (37.78733980600732, -122.41063199757738)  1420164406718  \n",
       "2    (37.7946573324287, -122.42232562979227)  1424856504716  \n",
       "3   (37.79595867909168, -122.41557405519474)  1443574295566  \n",
       "4   (37.78315261897309, -122.40950883997789)   144548169992  \n",
       "\n",
       "[5 rows x 43 columns]"
      ]
     },
     "execution_count": 747,
     "metadata": {},
     "output_type": "execute_result"
    }
   ],
   "source": [
    "import pandas as pd\n",
    "df = pd.read_csv(r\"D:\\Information Technology\\Sanfransisco building permits raw datasets\\Building_Permits.csv\")\n",
    "df.head()"
   ]
  },
  {
   "cell_type": "code",
   "execution_count": 749,
   "id": "bfda43ca-1c4c-41d4-bc7d-e9f7bdc2e0b1",
   "metadata": {},
   "outputs": [
    {
     "data": {
      "text/plain": [
       "101709"
      ]
     },
     "execution_count": 749,
     "metadata": {},
     "output_type": "execute_result"
    }
   ],
   "source": [
    "df['Completed Date'].isnull().sum()"
   ]
  },
  {
   "cell_type": "code",
   "execution_count": 751,
   "id": "73562f94-6cac-4cf9-a97b-6ce6aa7037fa",
   "metadata": {},
   "outputs": [
    {
     "name": "stdout",
     "output_type": "stream",
     "text": [
      "Null values: 101709\n",
      "Not null values: 97191\n"
     ]
    }
   ],
   "source": [
    "print(\"Null values:\", df['Completed Date'].isnull().sum())\n",
    "print(\"Not null values:\", df['Completed Date'].notnull().sum())"
   ]
  },
  {
   "cell_type": "code",
   "execution_count": 753,
   "id": "e07dd3a9-2ee4-417b-9b99-8280f0151a47",
   "metadata": {},
   "outputs": [],
   "source": [
    "df['Completed_Date_Flag'] = df['Completed Date'].isnull().astype(int) # creating a flaged columns here"
   ]
  },
  {
   "cell_type": "code",
   "execution_count": 755,
   "id": "80cd673e-3f70-46c4-99c9-3bf0ea44583a",
   "metadata": {},
   "outputs": [
    {
     "data": {
      "text/plain": [
       "Completed_Date_Flag\n",
       "1    101709\n",
       "0     97191\n",
       "Name: count, dtype: int64"
      ]
     },
     "execution_count": 755,
     "metadata": {},
     "output_type": "execute_result"
    }
   ],
   "source": [
    "df['Completed_Date_Flag'].value_counts()"
   ]
  },
  {
   "cell_type": "markdown",
   "id": "f7fb2477-8127-4e6b-86a3-1e4b3889a570",
   "metadata": {},
   "source": [
    "## Identify Incomplete / Long Pending Permits"
   ]
  },
  {
   "cell_type": "code",
   "execution_count": 757,
   "id": "3c53d2b3-93e2-45e4-9648-40f4677ef341",
   "metadata": {},
   "outputs": [
    {
     "name": "stdout",
     "output_type": "stream",
     "text": [
      "Is_Incomplete\n",
      "1    101709\n",
      "0     97191\n",
      "Name: count, dtype: int64\n"
     ]
    },
    {
     "data": {
      "image/png": "[encoded data removed]",
      "text/plain": [
       "<Figure size 640x480 with 1 Axes>"
      ]
     },
     "metadata": {},
     "output_type": "display_data"
    }
   ],
   "source": [
    "# Flag incomplete permits\n",
    "df['Is_Incomplete'] = df['Completed_Date_Flag']  # you already created this flag\n",
    "\n",
    "# Pending permits count\n",
    "print(df['Is_Incomplete'].value_counts())\n",
    "\n",
    "# Plot\n",
    "sns.countplot(data=df, x='Is_Incomplete')\n",
    "plt.xticks([0,1], ['Completed','Incomplete'])\n",
    "plt.title(\"Completed vs Incomplete Permits\")\n",
    "plt.show()"
   ]
  },
  {
   "cell_type": "code",
   "execution_count": 633,
   "id": "05fa4b34-4de0-42c1-a599-751409900a3a",
   "metadata": {},
   "outputs": [
    {
     "name": "stdout",
     "output_type": "stream",
     "text": [
      "<class 'pandas.core.frame.DataFrame'>\n",
      "RangeIndex: 198900 entries, 0 to 198899\n",
      "Data columns (total 43 columns):\n",
      " #   Column                                  Non-Null Count   Dtype  \n",
      "---  ------                                  --------------   -----  \n",
      " 0   Permit Number                           198900 non-null  object \n",
      " 1   Permit Type                             198900 non-null  int64  \n",
      " 2   Permit Type Definition                  198900 non-null  object \n",
      " 3   Permit Creation Date                    198900 non-null  object \n",
      " 4   Block                                   198900 non-null  object \n",
      " 5   Lot                                     198900 non-null  object \n",
      " 6   Street Number                           198900 non-null  int64  \n",
      " 7   Street Number Suffix                    2216 non-null    object \n",
      " 8   Street Name                             198900 non-null  object \n",
      " 9   Street Suffix                           196132 non-null  object \n",
      " 10  Unit                                    29479 non-null   float64\n",
      " 11  Unit Suffix                             1961 non-null    object \n",
      " 12  Description                             198610 non-null  object \n",
      " 13  Current Status                          198900 non-null  object \n",
      " 14  Current Status Date                     198900 non-null  object \n",
      " 15  Filed Date                              198900 non-null  object \n",
      " 16  Issued Date                             183960 non-null  object \n",
      " 17  Completed Date                          97191 non-null   object \n",
      " 18  First Construction Document Date        183954 non-null  object \n",
      " 19  Structural Notification                 6922 non-null    object \n",
      " 20  Number of Existing Stories              156116 non-null  float64\n",
      " 21  Number of Proposed Stories              156032 non-null  float64\n",
      " 22  Voluntary Soft-Story Retrofit           35 non-null      object \n",
      " 23  Fire Only Permit                        18827 non-null   object \n",
      " 24  Permit Expiration Date                  147020 non-null  object \n",
      " 25  Estimated Cost                          160834 non-null  float64\n",
      " 26  Revised Cost                            192834 non-null  float64\n",
      " 27  Existing Use                            157786 non-null  object \n",
      " 28  Existing Units                          147362 non-null  float64\n",
      " 29  Proposed Use                            156461 non-null  object \n",
      " 30  Proposed Units                          147989 non-null  float64\n",
      " 31  Plansets                                161591 non-null  float64\n",
      " 32  TIDF Compliance                         2 non-null       object \n",
      " 33  Existing Construction Type              155534 non-null  float64\n",
      " 34  Existing Construction Type Description  155534 non-null  object \n",
      " 35  Proposed Construction Type              155738 non-null  float64\n",
      " 36  Proposed Construction Type Description  155738 non-null  object \n",
      " 37  Site Permit                             5359 non-null    object \n",
      " 38  Supervisor District                     197183 non-null  float64\n",
      " 39  Neighborhoods - Analysis Boundaries     197175 non-null  object \n",
      " 40  Zipcode                                 197184 non-null  float64\n",
      " 41  Location                                197200 non-null  object \n",
      " 42  Record ID                               198900 non-null  int64  \n",
      "dtypes: float64(12), int64(3), object(28)\n",
      "memory usage: 65.3+ MB\n"
     ]
    }
   ],
   "source": [
    "df.info()"
   ]
  },
  {
   "cell_type": "code",
   "execution_count": 634,
   "id": "267a9931-982c-4904-996f-a749654e0a13",
   "metadata": {},
   "outputs": [
    {
     "data": {
      "text/plain": [
       "array(['A', 'C', 'V', 'B', 'F', 'R', 'D', '0', 'E', 'P'], dtype=object)"
      ]
     },
     "execution_count": 634,
     "metadata": {},
     "output_type": "execute_result"
    }
   ],
   "source": [
    "# Show first 10 non-null unique values\n",
    "df['Street Number Suffix'].dropna().unique()[:10]"
   ]
  },
  {
   "cell_type": "code",
   "execution_count": 637,
   "id": "20973f00-e083-44ac-9980-fc123eed7a1d",
   "metadata": {},
   "outputs": [
    {
     "data": {
      "text/plain": [
       "0     140\n",
       "1     440\n",
       "2    1647\n",
       "3    1230\n",
       "4     950\n",
       "Name: Street Number, dtype: int64"
      ]
     },
     "execution_count": 637,
     "metadata": {},
     "output_type": "execute_result"
    }
   ],
   "source": [
    "df['Street Number'].head()"
   ]
  },
  {
   "cell_type": "code",
   "execution_count": 639,
   "id": "3b7fb1a1-7137-458c-a618-7de12cbc7cdb",
   "metadata": {},
   "outputs": [],
   "source": [
    "# Drop multiple columns\n",
    "df = df.drop(columns=['Street Number Suffix', 'Unit Suffix','Unit','Structural Notification','Voluntary Soft-Story Retrofit','TIDF Compliance','Site Permit'])"
   ]
  },
  {
   "cell_type": "code",
   "execution_count": 641,
   "id": "0be2f894-c504-401a-9ba4-6adbc99a6654",
   "metadata": {},
   "outputs": [],
   "source": [
    "# Drop one column\n",
    "df = df.drop(columns=['Fire Only Permit'])"
   ]
  },
  {
   "cell_type": "code",
   "execution_count": 643,
   "id": "12ae8b96-fc0d-400b-9816-dfb820cae8c6",
   "metadata": {},
   "outputs": [
    {
     "data": {
      "text/plain": [
       "Permit Number                                  0\n",
       "Permit Type                                    0\n",
       "Permit Type Definition                         0\n",
       "Permit Creation Date                           0\n",
       "Block                                          0\n",
       "Lot                                            0\n",
       "Street Number                                  0\n",
       "Street Name                                    0\n",
       "Street Suffix                               2768\n",
       "Description                                  290\n",
       "Current Status                                 0\n",
       "Current Status Date                            0\n",
       "Filed Date                                     0\n",
       "Issued Date                                14940\n",
       "Completed Date                            101709\n",
       "First Construction Document Date           14946\n",
       "Number of Existing Stories                 42784\n",
       "Number of Proposed Stories                 42868\n",
       "Permit Expiration Date                     51880\n",
       "Estimated Cost                             38066\n",
       "Revised Cost                                6066\n",
       "Existing Use                               41114\n",
       "Existing Units                             51538\n",
       "Proposed Use                               42439\n",
       "Proposed Units                             50911\n",
       "Plansets                                   37309\n",
       "Existing Construction Type                 43366\n",
       "Existing Construction Type Description     43366\n",
       "Proposed Construction Type                 43162\n",
       "Proposed Construction Type Description     43162\n",
       "Supervisor District                         1717\n",
       "Neighborhoods - Analysis Boundaries         1725\n",
       "Zipcode                                     1716\n",
       "Location                                    1700\n",
       "Record ID                                      0\n",
       "dtype: int64"
      ]
     },
     "execution_count": 643,
     "metadata": {},
     "output_type": "execute_result"
    }
   ],
   "source": [
    "df.isnull().sum()"
   ]
  },
  {
   "cell_type": "code",
   "execution_count": 645,
   "id": "ee822768-c54c-4616-993e-460a3096ec4f",
   "metadata": {},
   "outputs": [
    {
     "name": "stdout",
     "output_type": "stream",
     "text": [
      "  Permit Number  Permit Type            Permit Type Definition  \\\n",
      "0  201505065519            4                      sign - erect   \n",
      "1  201604195146            4                      sign - erect   \n",
      "2  201605278609            3  additions alterations or repairs   \n",
      "3  201611072166            8            otc alterations permit   \n",
      "4  201611283529            6                       demolitions   \n",
      "\n",
      "  Permit Creation Date Block  Lot  Street Number Street Name Street Suffix  \\\n",
      "0           05/06/2015  0326  023            140       Ellis            St   \n",
      "1           04/19/2016  0306  007            440       Geary            St   \n",
      "2           05/27/2016  0595  203           1647     Pacific            Av   \n",
      "3           11/07/2016  0156  011           1230     Pacific            Av   \n",
      "4           11/28/2016  0342  001            950      Market            St   \n",
      "\n",
      "                                         Description  ... Plansets  \\\n",
      "0  ground fl facade: to erect illuminated, electr...  ...      2.0   \n",
      "1            remove (e) awning and associated signs.  ...      2.0   \n",
      "2                    installation of separating wall  ...      2.0   \n",
      "3           repair dryrot & stucco at front of bldg.  ...      2.0   \n",
      "4  demolish retail/office/commercial 3-story buil...  ...      2.0   \n",
      "\n",
      "  Existing Construction Type Existing Construction Type Description  \\\n",
      "0                        3.0                          constr type 3   \n",
      "1                        3.0                          constr type 3   \n",
      "2                        1.0                          constr type 1   \n",
      "3                        5.0                         wood frame (5)   \n",
      "4                        3.0                          constr type 3   \n",
      "\n",
      "  Proposed Construction Type Proposed Construction Type Description  \\\n",
      "0                        NaN                                    NaN   \n",
      "1                        NaN                                    NaN   \n",
      "2                        1.0                          constr type 1   \n",
      "3                        5.0                         wood frame (5)   \n",
      "4                        NaN                                    NaN   \n",
      "\n",
      "  Supervisor District  Neighborhoods - Analysis Boundaries  Zipcode  \\\n",
      "0                 3.0                           Tenderloin  94102.0   \n",
      "1                 3.0                           Tenderloin  94102.0   \n",
      "2                 3.0                         Russian Hill  94109.0   \n",
      "3                 3.0                             Nob Hill  94109.0   \n",
      "4                 6.0                           Tenderloin  94102.0   \n",
      "\n",
      "                                    Location      Record ID  \n",
      "0  (37.785719256680785, -122.40852313194863)  1380611233945  \n",
      "1   (37.78733980600732, -122.41063199757738)  1420164406718  \n",
      "2    (37.7946573324287, -122.42232562979227)  1424856504716  \n",
      "3   (37.79595867909168, -122.41557405519474)  1443574295566  \n",
      "4   (37.78315261897309, -122.40950883997789)   144548169992  \n",
      "\n",
      "[5 rows x 35 columns]\n"
     ]
    }
   ],
   "source": [
    "print(df.head())"
   ]
  },
  {
   "cell_type": "code",
   "execution_count": 646,
   "id": "bfc7eb2a-cdc1-49d5-8a3e-ce5c79960e60",
   "metadata": {},
   "outputs": [
    {
     "data": {
      "text/plain": [
       "Index(['Permit Number', 'Permit Type', 'Permit Type Definition',\n",
       "       'Permit Creation Date', 'Block', 'Lot', 'Street Number', 'Street Name',\n",
       "       'Street Suffix', 'Description', 'Current Status', 'Current Status Date',\n",
       "       'Filed Date', 'Issued Date', 'Completed Date',\n",
       "       'First Construction Document Date', 'Number of Existing Stories',\n",
       "       'Number of Proposed Stories', 'Permit Expiration Date',\n",
       "       'Estimated Cost', 'Revised Cost', 'Existing Use', 'Existing Units',\n",
       "       'Proposed Use', 'Proposed Units', 'Plansets',\n",
       "       'Existing Construction Type', 'Existing Construction Type Description',\n",
       "       'Proposed Construction Type', 'Proposed Construction Type Description',\n",
       "       'Supervisor District', 'Neighborhoods - Analysis Boundaries', 'Zipcode',\n",
       "       'Location', 'Record ID'],\n",
       "      dtype='object')"
      ]
     },
     "execution_count": 646,
     "metadata": {},
     "output_type": "execute_result"
    }
   ],
   "source": [
    "df.columns"
   ]
  },
  {
   "cell_type": "code",
   "execution_count": 649,
   "id": "a3377578-fbad-40f6-9ded-54ccfe95b41e",
   "metadata": {},
   "outputs": [],
   "source": [
    "keep_cols = [\n",
    "    'Permit Number', 'Permit Type', 'Permit Type Definition',\n",
    "    'Permit Creation Date', 'Filed Date', 'Issued Date', 'Completed Date',\n",
    "    'Current Status', 'Current Status Date',\n",
    "    'First Construction Document Date', 'Permit Expiration Date',\n",
    "    'Street Number', 'Street Name', 'Street Suffix', 'Zipcode',\n",
    "    'Neighborhoods - Analysis Boundaries', 'Supervisor District',\n",
    "    'Estimated Cost', 'Revised Cost',\n",
    "    'Number of Existing Stories', 'Number of Proposed Stories',\n",
    "    'Existing Units', 'Proposed Units',\n",
    "    'Existing Use', 'Proposed Use',\n",
    "    'Plansets',\n",
    "    'Existing Construction Type Description', 'Proposed Construction Type Description'\n",
    "]"
   ]
  },
  {
   "cell_type": "code",
   "execution_count": 651,
   "id": "db0f0efd-300c-4f75-bd1a-15900c2b4ce9",
   "metadata": {},
   "outputs": [],
   "source": [
    "df = df[keep_cols]"
   ]
  },
  {
   "cell_type": "code",
   "execution_count": 653,
   "id": "e55b5a76-1933-4054-b0c5-609a70d2e507",
   "metadata": {},
   "outputs": [
    {
     "name": "stdout",
     "output_type": "stream",
     "text": [
      "Index(['Permit Number', 'Permit Type', 'Permit Type Definition',\n",
      "       'Permit Creation Date', 'Filed Date', 'Issued Date', 'Completed Date',\n",
      "       'Current Status', 'Current Status Date',\n",
      "       'First Construction Document Date', 'Permit Expiration Date',\n",
      "       'Street Number', 'Street Name', 'Street Suffix', 'Zipcode',\n",
      "       'Neighborhoods - Analysis Boundaries', 'Supervisor District',\n",
      "       'Estimated Cost', 'Revised Cost', 'Number of Existing Stories',\n",
      "       'Number of Proposed Stories', 'Existing Units', 'Proposed Units',\n",
      "       'Existing Use', 'Proposed Use', 'Plansets',\n",
      "       'Existing Construction Type Description',\n",
      "       'Proposed Construction Type Description'],\n",
      "      dtype='object')\n"
     ]
    }
   ],
   "source": [
    "print(df.columns)"
   ]
  },
  {
   "cell_type": "code",
   "execution_count": 655,
   "id": "0305e6de-9b72-44bf-b4ac-e07cb2f38aa6",
   "metadata": {},
   "outputs": [],
   "source": [
    "df['Issued Date'] = pd.to_datetime(df['Issued Date'], errors='coerce')"
   ]
  },
  {
   "cell_type": "code",
   "execution_count": 657,
   "id": "79257ee9-4ce7-4e90-875d-bec2591c326d",
   "metadata": {},
   "outputs": [
    {
     "data": {
      "text/plain": [
       "dtype('<M8[ns]')"
      ]
     },
     "execution_count": 657,
     "metadata": {},
     "output_type": "execute_result"
    }
   ],
   "source": [
    "df['Issued Date'].dtype"
   ]
  },
  {
   "cell_type": "code",
   "execution_count": 659,
   "id": "e560f9e2-4395-45e4-97e0-b3227b89998c",
   "metadata": {},
   "outputs": [],
   "source": [
    "df['Completed Date'] = pd.to_datetime(df['Completed Date'], errors='coerce')"
   ]
  },
  {
   "cell_type": "code",
   "execution_count": 661,
   "id": "1fbe7864-91f7-49d1-a388-28e0ae0bfde0",
   "metadata": {},
   "outputs": [],
   "source": [
    "df['First Construction Document Date'] = pd.to_datetime(df['First Construction Document Date'], errors='coerce')"
   ]
  },
  {
   "cell_type": "code",
   "execution_count": 663,
   "id": "1a9f2a87-f185-4a54-a350-16a2900e9ea0",
   "metadata": {},
   "outputs": [],
   "source": [
    "df['Permit Expiration Date'] = pd.to_datetime(df['Permit Expiration Date'], errors='coerce')"
   ]
  },
  {
   "cell_type": "code",
   "execution_count": 665,
   "id": "b150bba2-231a-450f-a9cb-2dbaca03247b",
   "metadata": {},
   "outputs": [],
   "source": [
    "df['Street Suffix'] = df['Street Suffix'].fillna('Unknown')"
   ]
  },
  {
   "cell_type": "code",
   "execution_count": 667,
   "id": "72d1aaf1-dd70-4bc9-9375-0be5424b33bb",
   "metadata": {},
   "outputs": [
    {
     "data": {
      "text/plain": [
       "dtype('float64')"
      ]
     },
     "execution_count": 667,
     "metadata": {},
     "output_type": "execute_result"
    }
   ],
   "source": [
    "df['Zipcode'].dtype"
   ]
  },
  {
   "cell_type": "code",
   "execution_count": 669,
   "id": "0e0878be-9551-47a6-b2e5-4d446bec2461",
   "metadata": {},
   "outputs": [
    {
     "name": "stdout",
     "output_type": "stream",
     "text": [
      "[94102. 94109. 94107. 94122. 94124. 94117. 94114. 94131. 94115. 94108.\n",
      " 94104. 94123. 94110. 94133. 94121. 94105. 94103. 94118. 94132. 94112.\n",
      " 94134. 94116. 94127. 94158. 94130. 94111.    nan 94129.]\n"
     ]
    }
   ],
   "source": [
    "print(df['Zipcode'].unique())"
   ]
  },
  {
   "cell_type": "code",
   "execution_count": 671,
   "id": "677d76c9-d57c-4c30-9800-9b2140973964",
   "metadata": {},
   "outputs": [],
   "source": [
    "mode_zip = df['Zipcode'].mode()[0] # filling the missing zip code with mode value of the column\n",
    "df['Zipcode'] = df['Zipcode'].fillna(mode_zip)"
   ]
  },
  {
   "cell_type": "code",
   "execution_count": 673,
   "id": "15fab01f-cc39-43b0-abd4-c6efd462ddb5",
   "metadata": {},
   "outputs": [],
   "source": [
    "df['Neighborhoods - Analysis Boundaries'] = df['Neighborhoods - Analysis Boundaries'].fillna('Unknown')"
   ]
  },
  {
   "cell_type": "code",
   "execution_count": 675,
   "id": "8f8dd5b2-fb47-45f9-8291-2f579f87da9e",
   "metadata": {},
   "outputs": [],
   "source": [
    "df['Supervisor District'] = df['Supervisor District'].fillna('Unknown')"
   ]
  },
  {
   "cell_type": "code",
   "execution_count": 677,
   "id": "e4013629-491f-4fa8-9f28-25550a4aa77f",
   "metadata": {},
   "outputs": [
    {
     "data": {
      "text/plain": [
       "dtype('float64')"
      ]
     },
     "execution_count": 677,
     "metadata": {},
     "output_type": "execute_result"
    }
   ],
   "source": [
    "df['Estimated Cost'].dtype"
   ]
  },
  {
   "cell_type": "code",
   "execution_count": 679,
   "id": "7cb1ea19-e0a6-4c62-b838-c86ea028c729",
   "metadata": {},
   "outputs": [],
   "source": [
    "df['Estimated Cost'] = df['Estimated Cost'].fillna(0)"
   ]
  },
  {
   "cell_type": "code",
   "execution_count": 681,
   "id": "256a8f4d-42a9-492a-b90a-3ff60d4ee5dd",
   "metadata": {},
   "outputs": [],
   "source": [
    "df['Revised Cost'] = df['Revised Cost'].fillna(0)"
   ]
  },
  {
   "cell_type": "code",
   "execution_count": 683,
   "id": "827693e4-319f-4969-88f7-25cd045d708b",
   "metadata": {},
   "outputs": [
    {
     "data": {
      "text/plain": [
       "dtype('float64')"
      ]
     },
     "execution_count": 683,
     "metadata": {},
     "output_type": "execute_result"
    }
   ],
   "source": [
    "df['Existing Units'].dtype"
   ]
  },
  {
   "cell_type": "code",
   "execution_count": 685,
   "id": "e9efe493-75ed-4db8-9c23-5fa391473e68",
   "metadata": {},
   "outputs": [
    {
     "data": {
      "text/plain": [
       "Permit Number                              0.000000\n",
       "Permit Type                                0.000000\n",
       "Permit Type Definition                     0.000000\n",
       "Permit Creation Date                       0.000000\n",
       "Filed Date                                 0.000000\n",
       "Issued Date                                7.511312\n",
       "Completed Date                            51.135747\n",
       "Current Status                             0.000000\n",
       "Current Status Date                        0.000000\n",
       "First Construction Document Date           7.514329\n",
       "Permit Expiration Date                    26.083459\n",
       "Street Number                              0.000000\n",
       "Street Name                                0.000000\n",
       "Street Suffix                              0.000000\n",
       "Zipcode                                    0.000000\n",
       "Neighborhoods - Analysis Boundaries        0.000000\n",
       "Supervisor District                        0.000000\n",
       "Estimated Cost                             0.000000\n",
       "Revised Cost                               0.000000\n",
       "Number of Existing Stories                21.510307\n",
       "Number of Proposed Stories                21.552539\n",
       "Existing Units                            25.911513\n",
       "Proposed Units                            25.596280\n",
       "Existing Use                              20.670689\n",
       "Proposed Use                              21.336853\n",
       "Plansets                                  18.757667\n",
       "Existing Construction Type Description    21.802916\n",
       "Proposed Construction Type Description    21.700352\n",
       "dtype: float64"
      ]
     },
     "execution_count": 685,
     "metadata": {},
     "output_type": "execute_result"
    }
   ],
   "source": [
    "# Count of missing values\n",
    "null_count = df.isnull().sum()\n",
    "\n",
    "# Percentage of missing values\n",
    "null_percentage = (df.isnull().sum() / len(df)) * 100\n",
    "null_percentage"
   ]
  },
  {
   "cell_type": "code",
   "execution_count": 686,
   "id": "decdac54-0be0-49bc-9c0a-34014d84b038",
   "metadata": {},
   "outputs": [
    {
     "data": {
      "text/plain": [
       "14940"
      ]
     },
     "execution_count": 686,
     "metadata": {},
     "output_type": "execute_result"
    }
   ],
   "source": [
    "df['Issued Date'].isna().sum()"
   ]
  },
  {
   "cell_type": "code",
   "execution_count": 689,
   "id": "f6d4de6f-087f-4f8f-9737-1276b0fe36cd",
   "metadata": {},
   "outputs": [],
   "source": [
    "df.drop(columns=['First Construction Document Date'], inplace=True)"
   ]
  },
  {
   "cell_type": "code",
   "execution_count": 691,
   "id": "af852346-de8f-4201-834b-8641c45d0510",
   "metadata": {},
   "outputs": [],
   "source": [
    "df.drop(columns=['Number of Existing Stories'], inplace=True)"
   ]
  },
  {
   "cell_type": "code",
   "execution_count": 693,
   "id": "ce7fbe6c-965d-479c-831f-4de925f8929d",
   "metadata": {},
   "outputs": [],
   "source": [
    "df['Number of Proposed Stories'] = df['Number of Proposed Stories'].fillna(0)"
   ]
  },
  {
   "cell_type": "code",
   "execution_count": 695,
   "id": "881817e0-f29d-489b-8f09-89b3b0a26f11",
   "metadata": {},
   "outputs": [],
   "source": [
    "df['Existing Units'] = df['Existing Units'].fillna(0)\n",
    "df['Proposed Units'] = df['Proposed Units'].fillna(0)"
   ]
  },
  {
   "cell_type": "code",
   "execution_count": 697,
   "id": "016bd141-bf26-4999-bdbf-47e0073e9381",
   "metadata": {},
   "outputs": [],
   "source": [
    "df['Existing Use'] = df['Existing Use'].fillna('Unknown')\n",
    "df['Proposed Use'] = df['Proposed Use'].fillna('Unknown')"
   ]
  },
  {
   "cell_type": "code",
   "execution_count": 699,
   "id": "8e22fa47-9dcb-4b0c-88de-90e359fc31a5",
   "metadata": {},
   "outputs": [],
   "source": [
    "df['Plansets'] = df['Plansets'].fillna(0)"
   ]
  },
  {
   "cell_type": "code",
   "execution_count": 701,
   "id": "633a7819-4f22-43d5-9a8b-28988dfcb128",
   "metadata": {},
   "outputs": [],
   "source": [
    "df['Existing Construction Type Description'] = df['Existing Construction Type Description'].fillna('Unknown')"
   ]
  },
  {
   "cell_type": "code",
   "execution_count": 703,
   "id": "19f56561-48f9-45cc-ada0-099a45387ca8",
   "metadata": {},
   "outputs": [
    {
     "name": "stdout",
     "output_type": "stream",
     "text": [
      "[nan 'constr type 1' 'wood frame (5)' 'constr type 3' 'constr type 4'\n",
      " 'constr type 2']\n"
     ]
    }
   ],
   "source": [
    "print(df['Proposed Construction Type Description'].unique())"
   ]
  },
  {
   "cell_type": "code",
   "execution_count": 705,
   "id": "9639e1ed-3016-4307-999b-1fbf02c5337c",
   "metadata": {},
   "outputs": [],
   "source": [
    "df['Proposed Construction Type Description'] = df['Proposed Construction Type Description'].fillna('Unknown')"
   ]
  },
  {
   "cell_type": "code",
   "execution_count": 707,
   "id": "96b62303-74db-4091-bb59-8c0f1350be40",
   "metadata": {},
   "outputs": [],
   "source": [
    "df['Issued_Date_Flag'] = df['Issued Date'].isnull().astype(int) # creating a flaged columns\n",
    "# df['Completed_Date_Flag'] = df['Completed Date'].isnull().astype(int) # creating a flaged columns here\n",
    "df['Issued Date'] = df['Issued Date'].fillna(pd.to_datetime(\"1900-01-01\")) # fill the missing values\n",
    "# df['Completed Date'] = df['Completed Date'].fillna(pd.to_datetime(\"1900-01-01\")) # fill the missing values here"
   ]
  },
  {
   "cell_type": "code",
   "execution_count": 745,
   "id": "8b100bcd-8dad-42d1-b6e6-3fe4d5a4c17a",
   "metadata": {},
   "outputs": [
    {
     "data": {
      "text/plain": [
       "3     2017-07-24\n",
       "6     2017-07-12\n",
       "48    2017-10-31\n",
       "91    2017-09-08\n",
       "92    2017-10-04\n",
       "98    2017-10-13\n",
       "99    2017-10-10\n",
       "101   2017-09-28\n",
       "104   2018-01-19\n",
       "105   2017-09-22\n",
       "107   2017-10-03\n",
       "108   2017-08-22\n",
       "109   2017-09-14\n",
       "110   2017-07-21\n",
       "111   2017-12-04\n",
       "113   2017-12-22\n",
       "114   2017-09-20\n",
       "117   2017-07-28\n",
       "120   2017-08-30\n",
       "121   2017-08-11\n",
       "122   2017-07-26\n",
       "123   2017-07-03\n",
       "126   2017-12-28\n",
       "128   2017-08-01\n",
       "129   2017-10-16\n",
       "130   2017-10-18\n",
       "131   2017-10-13\n",
       "132   2017-10-26\n",
       "133   2017-08-29\n",
       "135   2017-07-10\n",
       "137   2017-12-04\n",
       "138   2017-09-05\n",
       "139   2017-07-05\n",
       "140   2017-09-19\n",
       "154   2017-07-20\n",
       "212   2017-11-17\n",
       "225   2018-02-06\n",
       "227   2017-09-25\n",
       "258   2018-02-01\n",
       "276   2018-01-29\n",
       "345   2017-11-06\n",
       "362   2018-01-09\n",
       "375   2017-11-14\n",
       "385   2017-11-08\n",
       "392   2018-01-11\n",
       "411   2017-11-29\n",
       "484   2013-10-15\n",
       "486   2013-02-07\n",
       "489   2013-01-25\n",
       "490   2013-03-25\n",
       "Name: Completed Date, dtype: datetime64[ns]"
      ]
     },
     "execution_count": 745,
     "metadata": {},
     "output_type": "execute_result"
    }
   ],
   "source": [
    "df['Completed Date']"
   ]
  },
  {
   "cell_type": "code",
   "execution_count": 709,
   "id": "7a78cd8e-63d0-42a6-bd52-06d5e5c053da",
   "metadata": {},
   "outputs": [
    {
     "name": "stdout",
     "output_type": "stream",
     "text": [
      "Permit Number                                  0\n",
      "Permit Type                                    0\n",
      "Permit Type Definition                         0\n",
      "Permit Creation Date                           0\n",
      "Filed Date                                     0\n",
      "Issued Date                                    0\n",
      "Completed Date                            101709\n",
      "Current Status                                 0\n",
      "Current Status Date                            0\n",
      "Permit Expiration Date                     51880\n",
      "Street Number                                  0\n",
      "Street Name                                    0\n",
      "Street Suffix                                  0\n",
      "Zipcode                                        0\n",
      "Neighborhoods - Analysis Boundaries            0\n",
      "Supervisor District                            0\n",
      "Estimated Cost                                 0\n",
      "Revised Cost                                   0\n",
      "Number of Proposed Stories                     0\n",
      "Existing Units                                 0\n",
      "Proposed Units                                 0\n",
      "Existing Use                                   0\n",
      "Proposed Use                                   0\n",
      "Plansets                                       0\n",
      "Existing Construction Type Description         0\n",
      "Proposed Construction Type Description         0\n",
      "Issued_Date_Flag                               0\n",
      "dtype: int64\n"
     ]
    }
   ],
   "source": [
    "print(df.isnull().sum()) # now the data is cleaned and ready for the analysis "
   ]
  },
  {
   "cell_type": "code",
   "execution_count": 711,
   "id": "074cef4b-e443-4439-9f9b-20be4b0818b3",
   "metadata": {},
   "outputs": [],
   "source": [
    "df.drop(columns=['Permit Expiration Date'], inplace=True)"
   ]
  },
  {
   "cell_type": "code",
   "execution_count": 713,
   "id": "bec136db-db17-4226-aab5-8784954e143d",
   "metadata": {},
   "outputs": [
    {
     "data": {
      "text/plain": [
       "Index(['Permit Number', 'Permit Type', 'Permit Type Definition',\n",
       "       'Permit Creation Date', 'Filed Date', 'Issued Date', 'Completed Date',\n",
       "       'Current Status', 'Current Status Date', 'Street Number', 'Street Name',\n",
       "       'Street Suffix', 'Zipcode', 'Neighborhoods - Analysis Boundaries',\n",
       "       'Supervisor District', 'Estimated Cost', 'Revised Cost',\n",
       "       'Number of Proposed Stories', 'Existing Units', 'Proposed Units',\n",
       "       'Existing Use', 'Proposed Use', 'Plansets',\n",
       "       'Existing Construction Type Description',\n",
       "       'Proposed Construction Type Description', 'Issued_Date_Flag'],\n",
       "      dtype='object')"
      ]
     },
     "execution_count": 713,
     "metadata": {},
     "output_type": "execute_result"
    }
   ],
   "source": [
    "df.columns"
   ]
  },
  {
   "cell_type": "code",
   "execution_count": 715,
   "id": "ac3eb1f3-076c-4cfd-85cc-ab2d2bd61d71",
   "metadata": {},
   "outputs": [],
   "source": [
    "df['Filed Date'] = pd.to_datetime(df['Filed Date'], errors='coerce')"
   ]
  },
  {
   "cell_type": "code",
   "execution_count": 717,
   "id": "2b5a2e54-5eea-4582-878e-3af0062ee414",
   "metadata": {},
   "outputs": [
    {
     "data": {
      "text/plain": [
       "0   2015-11-09\n",
       "1   2017-08-03\n",
       "2   1900-01-01\n",
       "3   2017-07-18\n",
       "4   2017-12-01\n",
       "5   2017-07-06\n",
       "6   2017-06-30\n",
       "7   2017-06-30\n",
       "8   2017-07-05\n",
       "9   2017-07-06\n",
       "Name: Issued Date, dtype: datetime64[ns]"
      ]
     },
     "execution_count": 717,
     "metadata": {},
     "output_type": "execute_result"
    }
   ],
   "source": [
    "df['Issued Date'].head(10)"
   ]
  },
  {
   "cell_type": "code",
   "execution_count": 719,
   "id": "d1c2dcab-7e84-4ef9-8a74-0d71f2bc8302",
   "metadata": {},
   "outputs": [],
   "source": [
    "# Calculate durations in days\n",
    "df['Approval_Lag'] = (df['Issued Date'] - df['Filed Date']).dt.days\n",
    "df['Completion_Time'] = (df['Completed Date'] - df['Issued Date']).dt.days"
   ]
  },
  {
   "cell_type": "code",
   "execution_count": 720,
   "id": "033ddbdf-8212-4486-8456-5f1128b9eae0",
   "metadata": {},
   "outputs": [
    {
     "data": {
      "text/plain": [
       "0       187\n",
       "1       471\n",
       "2    -42515\n",
       "3       253\n",
       "4       368\n",
       "5        22\n",
       "6         0\n",
       "7         0\n",
       "8         0\n",
       "9         0\n",
       "10        0\n",
       "11        0\n",
       "12        0\n",
       "13   -42939\n",
       "14        0\n",
       "15        0\n",
       "16        0\n",
       "17        0\n",
       "18   -42942\n",
       "19        0\n",
       "Name: Approval_Lag, dtype: int64"
      ]
     },
     "execution_count": 720,
     "metadata": {},
     "output_type": "execute_result"
    }
   ],
   "source": [
    "df['Approval_Lag'].head(20)"
   ]
  },
  {
   "cell_type": "code",
   "execution_count": 723,
   "id": "9599ed17-78f1-40f2-a1cb-2bec4708695b",
   "metadata": {},
   "outputs": [],
   "source": [
    "df = df[df['Approval_Lag'] >= 0]"
   ]
  },
  {
   "cell_type": "code",
   "execution_count": 725,
   "id": "c3d2875b-c56f-4fef-990f-960e47610c25",
   "metadata": {},
   "outputs": [
    {
     "data": {
      "text/plain": [
       "0     187\n",
       "1     471\n",
       "3     253\n",
       "4     368\n",
       "5      22\n",
       "6       0\n",
       "7       0\n",
       "8       0\n",
       "9       0\n",
       "10      0\n",
       "11      0\n",
       "12      0\n",
       "14      0\n",
       "15      0\n",
       "16      0\n",
       "17      0\n",
       "19      0\n",
       "20      0\n",
       "23      0\n",
       "24      0\n",
       "Name: Approval_Lag, dtype: int64"
      ]
     },
     "execution_count": 725,
     "metadata": {},
     "output_type": "execute_result"
    }
   ],
   "source": [
    "df['Approval_Lag'].head(20)"
   ]
  },
  {
   "cell_type": "code",
   "execution_count": 727,
   "id": "b5ee7389-0738-4f9e-af18-8e3e91bad379",
   "metadata": {},
   "outputs": [],
   "source": [
    "df = df[df['Completion_Time'] >= 0]"
   ]
  },
  {
   "cell_type": "code",
   "execution_count": 729,
   "id": "6ad5e646-fc43-4b33-98e9-b6adb9d6a453",
   "metadata": {},
   "outputs": [
    {
     "data": {
      "text/plain": [
       "3         6.0\n",
       "6        12.0\n",
       "48       20.0\n",
       "91      728.0\n",
       "92     1136.0\n",
       "98      469.0\n",
       "99      558.0\n",
       "101     540.0\n",
       "104     127.0\n",
       "105     378.0\n",
       "107     361.0\n",
       "108     309.0\n",
       "109     295.0\n",
       "110     218.0\n",
       "111     339.0\n",
       "113     322.0\n",
       "114     218.0\n",
       "117     137.0\n",
       "120     153.0\n",
       "121     113.0\n",
       "Name: Completion_Time, dtype: float64"
      ]
     },
     "execution_count": 729,
     "metadata": {},
     "output_type": "execute_result"
    }
   ],
   "source": [
    "df['Completion_Time'].head(20)"
   ]
  },
  {
   "cell_type": "code",
   "execution_count": 731,
   "id": "3c0a72a2-be31-4a30-8180-43fa7b32a462",
   "metadata": {},
   "outputs": [
    {
     "name": "stdout",
     "output_type": "stream",
     "text": [
      "Approval_Lag        22.852554\n",
      "Completion_Time    163.787765\n",
      "dtype: float64\n"
     ]
    }
   ],
   "source": [
    "# Average processing delays\n",
    "print(df[['Approval_Lag', 'Completion_Time']].mean())"
   ]
  },
  {
   "cell_type": "code",
   "execution_count": 733,
   "id": "ba2d4342-4f37-4b29-b109-2fb49b755c41",
   "metadata": {},
   "outputs": [
    {
     "data": {
      "image/png": "[encoded data removed]",
      "text/plain": [
       "<Figure size 640x480 with 1 Axes>"
      ]
     },
     "metadata": {},
     "output_type": "display_data"
    },
    {
     "data": {
      "image/png": "[encoded data removed]",
      "text/plain": [
       "<Figure size 640x480 with 1 Axes>"
      ]
     },
     "metadata": {},
     "output_type": "display_data"
    }
   ],
   "source": [
    "# Plot distribution\n",
    "\n",
    "import seaborn as sns\n",
    "import matplotlib.pyplot as plt\n",
    "\n",
    "sns.histplot(df['Approval_Lag'], bins=50, kde=True)\n",
    "plt.title(\"Approval Lag (Days) Distribution\")\n",
    "plt.show()\n",
    "\n",
    "sns.histplot(df['Completion_Time'], bins=50, kde=True)\n",
    "plt.title(\"Completion Time (Days) Distribution\")\n",
    "plt.show()"
   ]
  },
  {
   "cell_type": "code",
   "execution_count": 735,
   "id": "3c166eda-d6d5-4713-ae7f-41b20ea0123b",
   "metadata": {},
   "outputs": [
    {
     "name": "stdout",
     "output_type": "stream",
     "text": [
      "Null values: 0\n",
      "Not null values: 97161\n"
     ]
    }
   ],
   "source": [
    "print(\"Null values:\", df['Completed Date'].isnull().sum())\n",
    "print(\"Not null values:\", df['Completed Date'].notnull().sum())"
   ]
  },
  {
   "cell_type": "code",
   "execution_count": null,
   "id": "88801a6a-a35a-45d4-bc2f-0557da6d842f",
   "metadata": {},
   "outputs": [],
   "source": []
  }
 ],
 "metadata": {
  "kernelspec": {
   "display_name": "Python 3 (ipykernel)",
   "language": "python",
   "name": "python3"
  },
  "language_info": {
   "codemirror_mode": {
    "name": "ipython",
    "version": 3
   },
   "file_extension": ".py",
   "mimetype": "text/x-python",
   "name": "python",
   "nbconvert_exporter": "python",
   "pygments_lexer": "ipython3",
   "version": "3.12.4"
  }
 },
 "nbformat": 4,
 "nbformat_minor": 5
}
